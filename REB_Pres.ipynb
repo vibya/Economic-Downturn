{
 "cells": [
  {
   "cell_type": "markdown",
   "metadata": {
    "slideshow": {
     "slide_type": "slide"
    }
   },
   "source": [
    "# Economic Outlook\n",
    "## **Can we predict the next significant Economic Downturn??**"
   ]
  },
  {
   "cell_type": "markdown",
   "metadata": {
    "slideshow": {
     "slide_type": "slide"
    }
   },
   "source": [
    "#### The National Bureau of Economic Research (NBER) is an American private nonprofit research organization\n",
    "#### committed to undertaking and disseminating unbiased economic research among public policymakers, business\n",
    "#### professionals, and the academic community. NBER is well known for providing start and end dates \n",
    "#### for recessions in the United States.\n",
    "\n",
    "\n",
    "#### NBER defines an economic recession as: \"a significant decline in economic activity spread across the \n",
    "#### economy, lasting more than a few months, normally visible in:\n",
    "#### 1. Real GDP, 2. Real income W875RX1, 3. Employment PAYEMS, 4. Industrial production INDPRO, 5. Real Manufacturing CMRMTSPL"
   ]
  },
  {
   "cell_type": "markdown",
   "metadata": {
    "slideshow": {
     "slide_type": "slide"
    }
   },
   "source": [
    "## Objectives:\n",
    "\n",
    "### 1. Predict recession based on NBER methodology by forecasting the related indicators\n",
    "### 2. Use an interactive WebApp to perform indicator forecasting and recession prediction\n",
    "### 3. Use News data articles to gain additional insights\n",
    "\n",
    "### Selected the indicators based on the NBER method listed above."
   ]
  },
  {
   "cell_type": "markdown",
   "metadata": {
    "slideshow": {
     "slide_type": "slide"
    }
   },
   "source": [
    "# Indicators:\n",
    "### DGS10\t10-Year Treasury Constant Maturity Rate\n",
    "### DGS2\t2-Year Treasury Constant Maturity Rate\n",
    "### DGS5\t5-Year Treasury Constant Maturity Rate\n",
    "### AWHNONAG\tAverage Weekly Hours of Production and Nonsupervisory Employees: Total private\n",
    "### CES9091000001\tAll Employees: Government: Federal\n",
    "### CEU0500000003\tAverage Hourly Earnings of All Employees: Total Private\n",
    "### CMRMTSPL\tReal Manufacturing and Trade Industries Sales\n",
    "### INDPRO\tIndustrial Production Index\n",
    "### LNS13023622\tJob Losers as a Percent of Total Unemployed\n",
    "### LNS13023654\tJob Losers on Layoff as a Percent of Total Unemployed)\n",
    "### LNS13023706\tJob Leavers as a Percent of Total Unemployed\n",
    "### MARTSMPCSM44000USS\tAdvance Retail Sales: Retail(Excluding Food Services)"
   ]
  },
  {
   "cell_type": "markdown",
   "metadata": {
    "slideshow": {
     "slide_type": "subslide"
    }
   },
   "source": [
    "# Indicators:\n",
    "### MNFCTRIRSA\tManufacturers: Inventories to Sales Ratio\n",
    "### MNFCTRMPCIMSA\tManufacturers Inventories\n",
    "### MNFCTRMPCSMSA\tManufacturers Sales\n",
    "### MPCT00XXS\tTotal Construction Spending: Residential\n",
    "### MPCTNRXXS\tTotal Construction Spending: Nonresidential\n",
    "### MPCTXXXXS\tTotal Construction Spending\n",
    "### MVPHGFD027MNFRBDAL\tMarket Value of Privately Held Gross Federal Debt\n",
    "### PAYEMS\tTotal Nonfarm Payrolls\n",
    "### UNEMPLOY\tUnemployment Level\n",
    "### USGOVT\t\n",
    "#### Government employment covers only civilian employees; military personnel are excluded. Employees of the Central Intelligence Agency, the National Security Agency, the National Imagery and Mapping Agency, and the Defense Intelligence Agency also are excluded. Postal Services are included.\n",
    "### W875RX1\tReal personal income excluding current transfer receipts\n",
    "### MORTGAGE15US\t15 YRS Fixed Rate\n",
    "### MORTGAGE30US\t30 YRS Fixed Rate"
   ]
  },
  {
   "cell_type": "markdown",
   "metadata": {
    "slideshow": {
     "slide_type": "slide"
    }
   },
   "source": [
    "# Project Challenges:\n",
    "### 1. Not enough data\n",
    "### 2. Forecasting time trends is quite challenging\n",
    "### 3. Real GDP is only provided Quarterly\n",
    "### 4. Very few Data in Quarterly frequency\n",
    "### 5. Excessive training model time\n",
    "### 6. News articles - Very time consuming"
   ]
  },
  {
   "cell_type": "markdown",
   "metadata": {
    "slideshow": {
     "slide_type": "slide"
    }
   },
   "source": [
    "## Project Tools:\n",
    "### 1. Forecasting recession indicators-LSTM & ML Pipeline(Keras-TF)\n",
    "### 2. WebApp creation for recession forcasting (D3-Plotly-JS)\n",
    "### 3. Data cleaning, Data wrangling (Python)\n",
    "### 4. WebApp running method (Flask)"
   ]
  },
  {
   "cell_type": "markdown",
   "metadata": {
    "slideshow": {
     "slide_type": "slide"
    }
   },
   "source": [
    "## Project Findings:\n",
    "### LSTM does not work well with limited number of samples\n",
    "### Difficulty predicting Non-Linear trend with limited samples (~400)"
   ]
  },
  {
   "cell_type": "code",
   "execution_count": null,
   "metadata": {},
   "outputs": [],
   "source": []
  }
 ],
 "metadata": {
  "celltoolbar": "Slideshow",
  "kernelspec": {
   "display_name": "Python [conda env:PythonData]",
   "language": "python",
   "name": "conda-env-PythonData-py"
  },
  "language_info": {
   "codemirror_mode": {
    "name": "ipython",
    "version": 3
   },
   "file_extension": ".py",
   "mimetype": "text/x-python",
   "name": "python",
   "nbconvert_exporter": "python",
   "pygments_lexer": "ipython3",
   "version": "3.6.6"
  }
 },
 "nbformat": 4,
 "nbformat_minor": 2
}
